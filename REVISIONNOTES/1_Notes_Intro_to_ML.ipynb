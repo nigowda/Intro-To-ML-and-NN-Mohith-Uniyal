{
 "cells": [
  {
   "cell_type": "markdown",
   "metadata": {
    "id": "Kd3X-8_Yy5GW"
   },
   "source": [
    "## Content\n",
    "- Agenda\n",
    "- Already Learnt\n",
    "- DSML Libraries\n",
    "  - Plotting Examples\n",
    "  - Prob and Stats\n",
    "  - Linear Algebra\n",
    "- TO Learn\n",
    "- ML v/s Classical Programming\n",
    "  - SDE vs ML Pipeline\n",
    "  - Tom Mitchell's definition of ML Task\n",
    "  - ETP\n",
    "- ML: Categorisation based on Tasks\n",
    "\n",
    "  - Classifcation\n",
    "  - Regression      \n",
    "  - Classification v/s Regression\n",
    "  - Supervised Learning\n",
    "  - Clustering\n",
    "  - Unsupervised Learning"
   ]
  },
  {
   "cell_type": "markdown",
   "metadata": {
    "id": "6aVY9g3cPs56"
   },
   "source": [
    "### Agenda"
   ]
  },
  {
   "cell_type": "markdown",
   "metadata": {
    "id": "yh-r-DJ9u9G3"
   },
   "source": [
    "<img src=\"https://d2beiqkhq929f0.cloudfront.net/public_assets/assets/000/040/558/original/image_2023-07-24_182421442.png?1690203260\" width=800>"
   ]
  },
  {
   "cell_type": "markdown",
   "metadata": {
    "id": "yAvDXVzZSe9g"
   },
   "source": [
    "### ALREADY LEARNT\n",
    "\n",
    "\n",
    "\n"
   ]
  },
  {
   "cell_type": "markdown",
   "metadata": {
    "id": "NOXhQhrrM1IR"
   },
   "source": [
    "<img src=\"https://d2beiqkhq929f0.cloudfront.net/public_assets/assets/000/040/559/original/image_2023-07-24_182504594.png?1690203303\" width=800>"
   ]
  },
  {
   "cell_type": "markdown",
   "metadata": {
    "id": "84f9DwlibpN1"
   },
   "source": [
    "### DSML Libraries\n",
    "\n"
   ]
  },
  {
   "cell_type": "markdown",
   "metadata": {
    "id": "43jqKd9Lv34x"
   },
   "source": [
    "<img src=\"https://d2beiqkhq929f0.cloudfront.net/public_assets/assets/000/040/560/original/image_2023-07-24_182558308.png?1690203357\" width=800>\n",
    "\n"
   ]
  },
  {
   "cell_type": "markdown",
   "metadata": {
    "id": "3YnGykylv5tc"
   },
   "source": [
    "<img src=\"https://d2beiqkhq929f0.cloudfront.net/public_assets/assets/000/040/561/original/image_2023-07-24_182626953.png?1690203386\" width=800>"
   ]
  },
  {
   "cell_type": "markdown",
   "metadata": {
    "id": "JQ8_5bQdhRJl"
   },
   "source": [
    "#### Plotting Examples\n",
    "\n",
    "\n",
    "\n",
    "\n"
   ]
  },
  {
   "cell_type": "markdown",
   "metadata": {
    "id": "kQe_evDnQm2Y"
   },
   "source": [
    "<img src=\"https://d2beiqkhq929f0.cloudfront.net/public_assets/assets/000/040/562/original/image_2023-07-24_182701379.png?1690203420\" width=800>\n",
    "\n",
    "\n"
   ]
  },
  {
   "cell_type": "markdown",
   "metadata": {
    "id": "00MndbX6xzIp"
   },
   "source": [
    "<img src=\"https://d2beiqkhq929f0.cloudfront.net/public_assets/assets/000/040/563/original/image_2023-07-24_182726689.png?1690203445\" width=800>"
   ]
  },
  {
   "cell_type": "markdown",
   "metadata": {
    "id": "w2uA5JbBhRL4"
   },
   "source": [
    "#### Probability and Statistics"
   ]
  },
  {
   "cell_type": "markdown",
   "metadata": {
    "id": "LqYbAOQWyhOG"
   },
   "source": [
    "<img src=\"https://d2beiqkhq929f0.cloudfront.net/public_assets/assets/000/040/564/original/image_2023-07-24_182821507.png?1690203501\" width=800>\n",
    "\n"
   ]
  },
  {
   "cell_type": "markdown",
   "metadata": {
    "id": "jlJXz68oywt0"
   },
   "source": [
    "<img src=\"https://d2beiqkhq929f0.cloudfront.net/public_assets/assets/000/040/565/original/image_2023-07-24_182842139.png?1690203522\" width=800>\n",
    "\n",
    "\n"
   ]
  },
  {
   "cell_type": "markdown",
   "metadata": {
    "id": "TYp-zdn24BwL"
   },
   "source": [
    "<img src=\"https://d2beiqkhq929f0.cloudfront.net/public_assets/assets/000/040/566/original/image_2023-07-24_182903357.png?1690203542\" width=800>"
   ]
  },
  {
   "cell_type": "markdown",
   "metadata": {
    "id": "KrP8-7YvhRQV"
   },
   "source": [
    "#### Linear Algebra\n",
    "\n",
    "\n"
   ]
  },
  {
   "cell_type": "markdown",
   "metadata": {
    "id": "Lar2tl0F4WaT"
   },
   "source": [
    "<img src=\"https://d2beiqkhq929f0.cloudfront.net/public_assets/assets/000/040/568/original/image_2023-07-24_182949719.png?1690203588\" width=800>\n",
    "\n",
    "\n"
   ]
  },
  {
   "cell_type": "markdown",
   "metadata": {
    "id": "ThTkwhlN4Wcp"
   },
   "source": [
    "<img src=\"https://d2beiqkhq929f0.cloudfront.net/public_assets/assets/000/040/569/original/image_2023-07-24_183018451.png?1690203616\" width=800>"
   ]
  },
  {
   "cell_type": "markdown",
   "metadata": {
    "id": "-rG7GMlvVNfG"
   },
   "source": [
    "<img src=\"https://d2beiqkhq929f0.cloudfront.net/public_assets/assets/000/040/570/original/image_2023-07-24_183036998.png?1690203636\" width=800>"
   ]
  },
  {
   "cell_type": "markdown",
   "metadata": {
    "id": "AGdv-rzMhRW4"
   },
   "source": [
    "### TO LEARN  "
   ]
  },
  {
   "cell_type": "markdown",
   "metadata": {
    "id": "nZbQQO17xP5T"
   },
   "source": [
    "### ML v/s Classical Programming"
   ]
  },
  {
   "cell_type": "markdown",
   "metadata": {
    "id": "SJ1s9ARo5WsY"
   },
   "source": [
    "<img src=\"https://d2beiqkhq929f0.cloudfront.net/public_assets/assets/000/061/493/original/image.png?1705055311\" width=800>"
   ]
  },
  {
   "cell_type": "markdown",
   "metadata": {
    "id": "259QdYeShRb2"
   },
   "source": [
    "#### **How does the SDE pipleline look?**\n",
    "\n"
   ]
  },
  {
   "cell_type": "markdown",
   "metadata": {
    "id": "QI8cxEnF6WCm"
   },
   "source": [
    "<img src=\"https://d2beiqkhq929f0.cloudfront.net/public_assets/assets/000/061/494/original/image.png?1705055395\" width=800>\n",
    "\n",
    "\n"
   ]
  },
  {
   "cell_type": "markdown",
   "metadata": {
    "id": "kr4LOZAH6mMM"
   },
   "source": [
    "<img src=\"https://d2beiqkhq929f0.cloudfront.net/public_assets/assets/000/061/495/original/image.png?1705055456\" width=800>"
   ]
  },
  {
   "cell_type": "markdown",
   "metadata": {
    "id": "AaN5JwR5xsRe"
   },
   "source": [
    "#### How does the ML pipeline look?\n",
    "\n"
   ]
  },
  {
   "cell_type": "markdown",
   "metadata": {
    "id": "01DPA8mM6w5D"
   },
   "source": [
    "<img src=\"https://d2beiqkhq929f0.cloudfront.net/public_assets/assets/000/061/496/original/image.png?1705055673\" width=800>\n",
    "\n",
    "\n"
   ]
  },
  {
   "cell_type": "markdown",
   "metadata": {
    "id": "bU5TOB8J7V4Y"
   },
   "source": [
    "<img src=\"https://d2beiqkhq929f0.cloudfront.net/public_assets/assets/000/061/497/original/image.png?1705055757\" width=800>"
   ]
  },
  {
   "cell_type": "markdown",
   "metadata": {
    "id": "4WHBPyld0Kr6"
   },
   "source": [
    "#### \"Well defined\" ML task - Definition by Tom Mitchell"
   ]
  },
  {
   "cell_type": "markdown",
   "metadata": {
    "id": "6UW-O4_R7t2a"
   },
   "source": [
    "<img src=\"https://d2beiqkhq929f0.cloudfront.net/public_assets/assets/000/061/498/original/image.png?1705055955\" width=800>\n",
    "\n",
    "\n",
    "\n"
   ]
  },
  {
   "cell_type": "markdown",
   "metadata": {
    "id": "a8ab-Thp7t-P"
   },
   "source": [
    "<img src=\"https://d2beiqkhq929f0.cloudfront.net/public_assets/assets/000/061/499/original/image.png?1705056084\" width=800>"
   ]
  },
  {
   "cell_type": "markdown",
   "metadata": {
    "id": "HT5sp1zuELU1"
   },
   "source": [
    "#### ETP Example"
   ]
  },
  {
   "cell_type": "markdown",
   "metadata": {
    "id": "KauuwFZx7V-k"
   },
   "source": [
    "<img src=\"https://d2beiqkhq929f0.cloudfront.net/public_assets/assets/000/061/502/original/image.png?1705056196\" width=800>"
   ]
  },
  {
   "cell_type": "markdown",
   "metadata": {
    "id": "R6vusM8afr5R"
   },
   "source": [
    "<img src=\"https://d2beiqkhq929f0.cloudfront.net/public_assets/assets/000/061/504/original/image.png?1705056357\" width=800>\n",
    "\n"
   ]
  },
  {
   "cell_type": "markdown",
   "metadata": {
    "id": "EYbHvxg7VbQW"
   },
   "source": [
    "<img src=\"https://d2beiqkhq929f0.cloudfront.net/public_assets/assets/000/061/505/original/image.png?1705056480\" width=800>"
   ]
  },
  {
   "cell_type": "markdown",
   "metadata": {
    "id": "ljrzETUKJLv-"
   },
   "source": [
    "#### ML Topics Categorisation"
   ]
  },
  {
   "cell_type": "markdown",
   "metadata": {
    "id": "8p-yL9zo8-cE"
   },
   "source": [
    "<img src='https://d2beiqkhq929f0.cloudfront.net/public_assets/assets/000/061/510/original/img.png?1705056694' width=800>\n",
    "\n"
   ]
  },
  {
   "cell_type": "markdown",
   "metadata": {
    "id": "-8iap3Lv9jSS"
   },
   "source": [
    "<img src='https://d2beiqkhq929f0.cloudfront.net/public_assets/assets/000/061/511/original/img.png?1705056821' width=800>"
   ]
  },
  {
   "cell_type": "markdown",
   "metadata": {
    "id": "7BuxD1M4OBjY"
   },
   "source": [
    "### ML Categorisation based on Tasks"
   ]
  },
  {
   "cell_type": "markdown",
   "metadata": {
    "id": "hrGzlgv4OH1e"
   },
   "source": [
    "#### Classification"
   ]
  },
  {
   "cell_type": "markdown",
   "metadata": {
    "id": "lhSNmSBm9yEr"
   },
   "source": [
    "<img src='https://d2beiqkhq929f0.cloudfront.net/public_assets/assets/000/061/513/original/img.png?1705057029' width=800>\n",
    "\n",
    "\n"
   ]
  },
  {
   "cell_type": "markdown",
   "metadata": {
    "id": "I73YFTB993Eu"
   },
   "source": [
    "<img src='https://d2beiqkhq929f0.cloudfront.net/public_assets/assets/000/061/514/original/img.png?1705057062' width=800>"
   ]
  },
  {
   "cell_type": "markdown",
   "metadata": {
    "id": "-f2DGnmBOWdH"
   },
   "source": [
    "#### Regression"
   ]
  },
  {
   "cell_type": "markdown",
   "metadata": {
    "id": "MzaAFeEx-UZ3"
   },
   "source": [
    "<img src='https://d2beiqkhq929f0.cloudfront.net/public_assets/assets/000/061/516/original/z.png?1705057163' width=800>"
   ]
  },
  {
   "cell_type": "markdown",
   "metadata": {
    "id": "MiJkVJPPOj14"
   },
   "source": [
    "#### Regression v/s Classification"
   ]
  },
  {
   "cell_type": "markdown",
   "metadata": {
    "id": "HQJ2Kk0b-Y4z"
   },
   "source": [
    "<img src='https://d2beiqkhq929f0.cloudfront.net/public_assets/assets/000/061/519/original/z.png?1705057208' width=800>\n",
    "\n",
    "\n"
   ]
  },
  {
   "cell_type": "markdown",
   "metadata": {
    "id": "kEXgwOGl_CZ4"
   },
   "source": [
    "<img src='https://d2beiqkhq929f0.cloudfront.net/public_assets/assets/000/061/523/original/z.png?1705057297' width=800>"
   ]
  },
  {
   "cell_type": "markdown",
   "metadata": {
    "id": "sna3Ufl3f4LO"
   },
   "source": [
    "<img src=\"https://d2beiqkhq929f0.cloudfront.net/public_assets/assets/000/061/504/original/image.png?1705056357\" width=800>\n",
    "\n"
   ]
  },
  {
   "cell_type": "markdown",
   "metadata": {
    "id": "e9eDc0CRg786"
   },
   "source": [
    "<img src=\"https://d2beiqkhq929f0.cloudfront.net/public_assets/assets/000/061/505/original/image.png?1705056480\" width=800>\n",
    "\n"
   ]
  },
  {
   "cell_type": "markdown",
   "metadata": {
    "id": "YSaztZlUgnSF"
   },
   "source": [
    "<img src='https://d2beiqkhq929f0.cloudfront.net/public_assets/assets/000/061/524/original/z.png?1705057450' width=800>"
   ]
  },
  {
   "cell_type": "markdown",
   "metadata": {
    "id": "AaTuefp6Oo7a"
   },
   "source": [
    "#### Supervised Learning"
   ]
  },
  {
   "cell_type": "markdown",
   "metadata": {
    "id": "ndWOMmto_dYM"
   },
   "source": [
    "<img src='https://d2beiqkhq929f0.cloudfront.net/public_assets/assets/000/061/525/original/z.png?1705057493' width=800>"
   ]
  },
  {
   "cell_type": "markdown",
   "metadata": {
    "id": "mvHoYG44OtIC"
   },
   "source": [
    "#### Clustering"
   ]
  },
  {
   "cell_type": "markdown",
   "metadata": {
    "id": "Znu8EJgQ_hDG"
   },
   "source": [
    "<img src='https://d2beiqkhq929f0.cloudfront.net/public_assets/assets/000/061/528/original/z.png?1705057589' width=800>\n",
    "\n",
    "\n"
   ]
  },
  {
   "cell_type": "markdown",
   "metadata": {
    "id": "NCkDyqrB_he8"
   },
   "source": [
    "<img src='https://d2beiqkhq929f0.cloudfront.net/public_assets/assets/000/061/529/original/z.png?1705057636' width=800>\n",
    "\n",
    "\n"
   ]
  },
  {
   "cell_type": "markdown",
   "metadata": {
    "id": "yF4j9M5H_hzI"
   },
   "source": [
    "<img src='https://d2beiqkhq929f0.cloudfront.net/public_assets/assets/000/061/530/original/z.png?1705057671' width=800>"
   ]
  },
  {
   "cell_type": "markdown",
   "metadata": {
    "id": "NU8H3XR7OtMk"
   },
   "source": [
    "#### Unsupervised Learning"
   ]
  },
  {
   "cell_type": "markdown",
   "metadata": {
    "id": "aJoDp3Dp_iBm"
   },
   "source": [
    "<img src='https://d2beiqkhq929f0.cloudfront.net/public_assets/assets/000/061/531/original/z.png?1705057724' width=800>\n",
    "\n",
    "\n"
   ]
  },
  {
   "cell_type": "markdown",
   "metadata": {
    "id": "wy0RvlqI__dL"
   },
   "source": [
    "<img src='https://d2beiqkhq929f0.cloudfront.net/public_assets/assets/000/061/532/original/z.png?1705057905' width=800>"
   ]
  },
  {
   "cell_type": "markdown",
   "metadata": {
    "id": "fMA8___ZhBQl"
   },
   "source": [
    "<img src=\"https://d2beiqkhq929f0.cloudfront.net/public_assets/assets/000/061/504/original/image.png?1705056357\" width=800>\n",
    "\n"
   ]
  },
  {
   "cell_type": "markdown",
   "metadata": {
    "id": "bJSnDkmLhBQz"
   },
   "source": [
    "<img src=\"https://d2beiqkhq929f0.cloudfront.net/public_assets/assets/000/061/505/original/image.png?1705056480\" width=800>\n",
    "\n"
   ]
  },
  {
   "cell_type": "markdown",
   "metadata": {
    "id": "fKY-gdgMVygS"
   },
   "source": [
    "<img src='https://d2beiqkhq929f0.cloudfront.net/public_assets/assets/000/061/534/original/z.png?1705057956' width=800>"
   ]
  },
  {
   "cell_type": "code",
   "execution_count": null,
   "metadata": {
    "id": "DaQzEWgtc7QV"
   },
   "outputs": [],
   "source": []
  }
 ],
 "metadata": {
  "colab": {
   "provenance": []
  },
  "kernelspec": {
   "display_name": "Python 3 (ipykernel)",
   "language": "python",
   "name": "python3"
  },
  "language_info": {
   "codemirror_mode": {
    "name": "ipython",
    "version": 3
   },
   "file_extension": ".py",
   "mimetype": "text/x-python",
   "name": "python",
   "nbconvert_exporter": "python",
   "pygments_lexer": "ipython3",
   "version": "3.12.5"
  }
 },
 "nbformat": 4,
 "nbformat_minor": 4
}
